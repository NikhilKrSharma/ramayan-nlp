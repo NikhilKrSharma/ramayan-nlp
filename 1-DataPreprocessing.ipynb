{
 "cells": [
  {
   "cell_type": "code",
   "execution_count": 13,
   "id": "48e45783-a175-46ac-8cb4-e41a1f4494dd",
   "metadata": {
    "execution": {
     "iopub.execute_input": "2024-03-06T11:38:28.545236Z",
     "iopub.status.busy": "2024-03-06T11:38:28.544917Z",
     "iopub.status.idle": "2024-03-06T11:38:28.549431Z",
     "shell.execute_reply": "2024-03-06T11:38:28.548667Z",
     "shell.execute_reply.started": "2024-03-06T11:38:28.545213Z"
    }
   },
   "outputs": [],
   "source": [
    "import os\n",
    "import sys\n",
    "import time\n",
    "import random\n",
    "import pickle\n",
    "import datetime\n",
    "import pandas as pd\n",
    "from pprint import pprint"
   ]
  },
  {
   "cell_type": "code",
   "execution_count": 2,
   "id": "aca6290c-21c9-436b-84f8-c25d377bd53f",
   "metadata": {
    "execution": {
     "iopub.execute_input": "2024-03-06T11:37:25.476457Z",
     "iopub.status.busy": "2024-03-06T11:37:25.476029Z",
     "iopub.status.idle": "2024-03-06T11:37:25.538674Z",
     "shell.execute_reply": "2024-03-06T11:37:25.537927Z",
     "shell.execute_reply.started": "2024-03-06T11:37:25.476435Z"
    }
   },
   "outputs": [],
   "source": [
    "import PyPDF2\n",
    "from tqdm import tqdm"
   ]
  },
  {
   "cell_type": "code",
   "execution_count": 3,
   "id": "272f7b90-7414-498c-bb17-e3a6288c082c",
   "metadata": {
    "execution": {
     "iopub.execute_input": "2024-03-06T11:37:26.254717Z",
     "iopub.status.busy": "2024-03-06T11:37:26.254355Z",
     "iopub.status.idle": "2024-03-06T11:37:26.259790Z",
     "shell.execute_reply": "2024-03-06T11:37:26.258929Z",
     "shell.execute_reply.started": "2024-03-06T11:37:26.254690Z"
    }
   },
   "outputs": [],
   "source": [
    "def extract_text_from_pdf(pdf_path):\n",
    "    # Open the PDF file in binary mode\n",
    "    with open(pdf_path, 'rb') as file:\n",
    "        # Create a PDF reader object\n",
    "        pdf_reader = PyPDF2.PdfReader(file)\n",
    "\n",
    "        # Initialize a list to store the extracted text from each page\n",
    "        pages_text = []\n",
    "\n",
    "        # Iterate through each page\n",
    "        for page_number in range(len(pdf_reader.pages)):\n",
    "            # Access the page\n",
    "            page = pdf_reader.pages[page_number]\n",
    "\n",
    "            # Extract text from the page\n",
    "            page_text = page.extract_text()\n",
    "\n",
    "            # Append the extracted text to the list\n",
    "            pages_text.append(page_text)\n",
    "\n",
    "    return pages_text"
   ]
  },
  {
   "cell_type": "code",
   "execution_count": 4,
   "id": "dd1d3410-f77f-447a-89e9-dfdfcad660b2",
   "metadata": {
    "execution": {
     "iopub.execute_input": "2024-03-06T11:37:27.879449Z",
     "iopub.status.busy": "2024-03-06T11:37:27.879151Z",
     "iopub.status.idle": "2024-03-06T11:37:36.617565Z",
     "shell.execute_reply": "2024-03-06T11:37:36.616914Z",
     "shell.execute_reply.started": "2024-03-06T11:37:27.879428Z"
    }
   },
   "outputs": [],
   "source": [
    "pdf_path = 'data/66697602-The-Ramayana-R-K-Narayan.pdf'\n",
    "result = extract_text_from_pdf(pdf_path)"
   ]
  },
  {
   "cell_type": "code",
   "execution_count": 5,
   "id": "ac15f9e4-4b25-48d5-ab28-02bbc491a172",
   "metadata": {
    "execution": {
     "iopub.execute_input": "2024-03-06T11:37:36.654119Z",
     "iopub.status.busy": "2024-03-06T11:37:36.653818Z",
     "iopub.status.idle": "2024-03-06T11:37:36.663313Z",
     "shell.execute_reply": "2024-03-06T11:37:36.662146Z",
     "shell.execute_reply.started": "2024-03-06T11:37:36.654096Z"
    }
   },
   "outputs": [
    {
     "data": {
      "text/plain": [
       "272"
      ]
     },
     "execution_count": 5,
     "metadata": {},
     "output_type": "execute_result"
    }
   ],
   "source": [
    "len(result)"
   ]
  },
  {
   "cell_type": "code",
   "execution_count": 6,
   "id": "55b3e9a6-162b-45d5-a84e-928aee3717cf",
   "metadata": {
    "execution": {
     "iopub.execute_input": "2024-03-06T11:37:49.314289Z",
     "iopub.status.busy": "2024-03-06T11:37:49.313913Z",
     "iopub.status.idle": "2024-03-06T11:37:49.318272Z",
     "shell.execute_reply": "2024-03-06T11:37:49.317537Z",
     "shell.execute_reply.started": "2024-03-06T11:37:49.314263Z"
    }
   },
   "outputs": [],
   "source": [
    "result = [page for page in result if len(page)>0]"
   ]
  },
  {
   "cell_type": "code",
   "execution_count": 7,
   "id": "40dadb09-5399-4f0e-91dd-183a49391f3d",
   "metadata": {
    "execution": {
     "iopub.execute_input": "2024-03-06T11:37:52.395336Z",
     "iopub.status.busy": "2024-03-06T11:37:52.394951Z",
     "iopub.status.idle": "2024-03-06T11:37:52.440896Z",
     "shell.execute_reply": "2024-03-06T11:37:52.439983Z",
     "shell.execute_reply.started": "2024-03-06T11:37:52.395309Z"
    }
   },
   "outputs": [],
   "source": [
    "result = [page.split('\\n') for page in result]"
   ]
  },
  {
   "cell_type": "code",
   "execution_count": 8,
   "id": "5ecdac06-ab47-46b1-96b6-c007f5de7c6e",
   "metadata": {
    "execution": {
     "iopub.execute_input": "2024-03-06T11:37:53.783620Z",
     "iopub.status.busy": "2024-03-06T11:37:53.783262Z",
     "iopub.status.idle": "2024-03-06T11:37:53.788464Z",
     "shell.execute_reply": "2024-03-06T11:37:53.787617Z",
     "shell.execute_reply.started": "2024-03-06T11:37:53.783594Z"
    }
   },
   "outputs": [],
   "source": [
    "result = [' '.join(page) for page in result]"
   ]
  },
  {
   "cell_type": "code",
   "execution_count": 9,
   "id": "ac97b80d-03e3-43ea-9404-fed2b21e1e83",
   "metadata": {
    "execution": {
     "iopub.execute_input": "2024-03-06T11:37:55.135452Z",
     "iopub.status.busy": "2024-03-06T11:37:55.134882Z",
     "iopub.status.idle": "2024-03-06T11:37:55.142126Z",
     "shell.execute_reply": "2024-03-06T11:37:55.140419Z",
     "shell.execute_reply.started": "2024-03-06T11:37:55.135404Z"
    }
   },
   "outputs": [],
   "source": [
    "final_data = ' '.join(result)"
   ]
  },
  {
   "cell_type": "code",
   "execution_count": 14,
   "id": "fa786a1d-46ef-425b-ade2-663e48e12e4b",
   "metadata": {
    "execution": {
     "iopub.execute_input": "2024-03-06T11:39:44.218252Z",
     "iopub.status.busy": "2024-03-06T11:39:44.217990Z",
     "iopub.status.idle": "2024-03-06T11:39:44.222787Z",
     "shell.execute_reply": "2024-03-06T11:39:44.221904Z",
     "shell.execute_reply.started": "2024-03-06T11:39:44.218234Z"
    }
   },
   "outputs": [
    {
     "data": {
      "text/plain": [
       "346066"
      ]
     },
     "execution_count": 14,
     "metadata": {},
     "output_type": "execute_result"
    }
   ],
   "source": [
    "len(final_data)"
   ]
  },
  {
   "cell_type": "code",
   "execution_count": 17,
   "id": "7d98882c-5545-4134-a0cd-962c5a1ef628",
   "metadata": {
    "execution": {
     "iopub.execute_input": "2024-03-06T11:41:22.261579Z",
     "iopub.status.busy": "2024-03-06T11:41:22.261272Z",
     "iopub.status.idle": "2024-03-06T11:41:22.266290Z",
     "shell.execute_reply": "2024-03-06T11:41:22.265622Z",
     "shell.execute_reply.started": "2024-03-06T11:41:22.261555Z"
    }
   },
   "outputs": [
    {
     "data": {
      "text/plain": [
       "'N   Epilogue Glossary THE RAMAYANA R. K. NARAYAN was born on October 10, 1906, in Madras, South Indi'"
      ]
     },
     "execution_count": 17,
     "metadata": {},
     "output_type": "execute_result"
    }
   ],
   "source": [
    "final_data[500:600]"
   ]
  },
  {
   "cell_type": "code",
   "execution_count": 40,
   "id": "6bcba7d7-d14e-447e-840a-b7f5f677478a",
   "metadata": {
    "execution": {
     "iopub.execute_input": "2024-03-06T09:44:21.530565Z",
     "iopub.status.busy": "2024-03-06T09:44:21.529746Z",
     "iopub.status.idle": "2024-03-06T09:44:21.533634Z",
     "shell.execute_reply": "2024-03-06T09:44:21.532841Z",
     "shell.execute_reply.started": "2024-03-06T09:44:21.530539Z"
    }
   },
   "outputs": [],
   "source": [
    "# for page_number, page_text in enumerate(result[10:30], 0):\n",
    "#     print(f\"Page {page_number}:\\n{page_text}\\n\")"
   ]
  },
  {
   "cell_type": "code",
   "execution_count": 19,
   "id": "7708f88b-255e-4875-b559-6dc13fea17c7",
   "metadata": {
    "execution": {
     "iopub.execute_input": "2024-03-06T11:44:20.582578Z",
     "iopub.status.busy": "2024-03-06T11:44:20.582259Z",
     "iopub.status.idle": "2024-03-06T11:44:20.711820Z",
     "shell.execute_reply": "2024-03-06T11:44:20.710487Z",
     "shell.execute_reply.started": "2024-03-06T11:44:20.582555Z"
    }
   },
   "outputs": [
    {
     "name": "stderr",
     "output_type": "stream",
     "text": [
      "Writing Pages: 267it [00:00, 2819.64it/s]\n"
     ]
    }
   ],
   "source": [
    "for page_no, page_data in tqdm(enumerate(result), desc=\"Writing Pages\"):\n",
    "    file_name = f'ramayan_page_{str(page_no)}'\n",
    "    with open(f'./data/ramayan_page_wise/{file_name}.txt', 'w') as f:\n",
    "        f.write(page_data)"
   ]
  },
  {
   "cell_type": "code",
   "execution_count": 20,
   "id": "1879ff0d-fd33-40ef-b2ce-41576f99161c",
   "metadata": {
    "execution": {
     "iopub.execute_input": "2024-03-06T11:45:23.876519Z",
     "iopub.status.busy": "2024-03-06T11:45:23.876195Z",
     "iopub.status.idle": "2024-03-06T11:45:23.881588Z",
     "shell.execute_reply": "2024-03-06T11:45:23.880922Z",
     "shell.execute_reply.started": "2024-03-06T11:45:23.876493Z"
    }
   },
   "outputs": [],
   "source": [
    "with open('./data/ramayan_pages_as_list.pkl', 'wb') as file:\n",
    "    pickle.dump(final_data, file)"
   ]
  },
  {
   "cell_type": "code",
   "execution_count": null,
   "id": "abb5d578-62da-4de5-8f0a-4bf2135d497a",
   "metadata": {},
   "outputs": [],
   "source": []
  },
  {
   "cell_type": "code",
   "execution_count": null,
   "id": "f01fe756-f682-41b0-8f1f-ada4fc58fc1e",
   "metadata": {},
   "outputs": [],
   "source": []
  },
  {
   "cell_type": "code",
   "execution_count": null,
   "id": "e39765b8-dbb0-4d69-9c07-caa471355c76",
   "metadata": {},
   "outputs": [],
   "source": []
  }
 ],
 "metadata": {
  "kernelspec": {
   "display_name": "Python 3 (ipykernel)",
   "language": "python",
   "name": "python3"
  },
  "language_info": {
   "codemirror_mode": {
    "name": "ipython",
    "version": 3
   },
   "file_extension": ".py",
   "mimetype": "text/x-python",
   "name": "python",
   "nbconvert_exporter": "python",
   "pygments_lexer": "ipython3",
   "version": "3.8.18"
  }
 },
 "nbformat": 4,
 "nbformat_minor": 5
}
